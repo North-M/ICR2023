{
 "cells": [
  {
   "cell_type": "markdown",
   "id": "4483c718",
   "metadata": {
    "papermill": {
     "duration": 0.009545,
     "end_time": "2023-08-07T01:24:46.904395",
     "exception": false,
     "start_time": "2023-08-07T01:24:46.894850",
     "status": "completed"
    },
    "tags": []
   },
   "source": [
    "The approach contains the following components:\n",
    "- Use an ensemble of TabPFN and (default) XGBoost\n",
    "- Reweight the probabilites to match the balanced log loss used in this competition\n",
    "- Use median nan imputation\n",
    "- Use the time column from the training data, and use a time (max time in training) + 1 for test\n",
    "- Use all four classes provided in greeks.Alpha and aggregate probabilites for the latter three classes, as they all correspond to different illnesses"
   ]
  },
  {
   "cell_type": "code",
   "execution_count": 1,
   "id": "3144f3a9",
   "metadata": {
    "execution": {
     "iopub.execute_input": "2023-08-07T01:24:46.920312Z",
     "iopub.status.busy": "2023-08-07T01:24:46.919495Z",
     "iopub.status.idle": "2023-08-07T01:25:01.734410Z",
     "shell.execute_reply": "2023-08-07T01:25:01.733091Z"
    },
    "papermill": {
     "duration": 14.82612,
     "end_time": "2023-08-07T01:25:01.737664",
     "exception": false,
     "start_time": "2023-08-07T01:24:46.911544",
     "status": "completed"
    },
    "tags": []
   },
   "outputs": [
    {
     "name": "stdout",
     "output_type": "stream",
     "text": [
      "Looking in links: file:///kaggle/input/d/stajdi/pip-packages-icr/pip-packages\r\n",
      "Processing /kaggle/input/d/stajdi/pip-packages-icr/pip-packages/tabpfn-0.1.9-py3-none-any.whl\r\n",
      "Requirement already satisfied: pyyaml>=5.4.1 in /opt/conda/lib/python3.10/site-packages (from tabpfn) (6.0)\r\n",
      "Requirement already satisfied: numpy>=1.21.2 in /opt/conda/lib/python3.10/site-packages (from tabpfn) (1.23.5)\r\n",
      "Requirement already satisfied: requests>=2.23.0 in /opt/conda/lib/python3.10/site-packages (from tabpfn) (2.28.2)\r\n",
      "Requirement already satisfied: torch>=1.9.0 in /opt/conda/lib/python3.10/site-packages (from tabpfn) (2.0.0)\r\n",
      "Requirement already satisfied: scikit-learn>=0.24.2 in /opt/conda/lib/python3.10/site-packages (from tabpfn) (1.2.2)\r\n",
      "Requirement already satisfied: urllib3<1.27,>=1.21.1 in /opt/conda/lib/python3.10/site-packages (from requests>=2.23.0->tabpfn) (1.26.15)\r\n",
      "Requirement already satisfied: charset-normalizer<4,>=2 in /opt/conda/lib/python3.10/site-packages (from requests>=2.23.0->tabpfn) (2.1.1)\r\n",
      "Requirement already satisfied: idna<4,>=2.5 in /opt/conda/lib/python3.10/site-packages (from requests>=2.23.0->tabpfn) (3.4)\r\n",
      "Requirement already satisfied: certifi>=2017.4.17 in /opt/conda/lib/python3.10/site-packages (from requests>=2.23.0->tabpfn) (2022.12.7)\r\n",
      "Requirement already satisfied: threadpoolctl>=2.0.0 in /opt/conda/lib/python3.10/site-packages (from scikit-learn>=0.24.2->tabpfn) (3.1.0)\r\n",
      "Requirement already satisfied: joblib>=1.1.1 in /opt/conda/lib/python3.10/site-packages (from scikit-learn>=0.24.2->tabpfn) (1.2.0)\r\n",
      "Requirement already satisfied: scipy>=1.3.2 in /opt/conda/lib/python3.10/site-packages (from scikit-learn>=0.24.2->tabpfn) (1.9.3)\r\n",
      "Requirement already satisfied: typing-extensions in /opt/conda/lib/python3.10/site-packages (from torch>=1.9.0->tabpfn) (4.5.0)\r\n",
      "Requirement already satisfied: filelock in /opt/conda/lib/python3.10/site-packages (from torch>=1.9.0->tabpfn) (3.11.0)\r\n",
      "Requirement already satisfied: networkx in /opt/conda/lib/python3.10/site-packages (from torch>=1.9.0->tabpfn) (3.1)\r\n",
      "Requirement already satisfied: sympy in /opt/conda/lib/python3.10/site-packages (from torch>=1.9.0->tabpfn) (1.11.1)\r\n",
      "Requirement already satisfied: jinja2 in /opt/conda/lib/python3.10/site-packages (from torch>=1.9.0->tabpfn) (3.1.2)\r\n",
      "Requirement already satisfied: MarkupSafe>=2.0 in /opt/conda/lib/python3.10/site-packages (from jinja2->torch>=1.9.0->tabpfn) (2.1.2)\r\n",
      "Requirement already satisfied: mpmath>=0.19 in /opt/conda/lib/python3.10/site-packages (from sympy->torch>=1.9.0->tabpfn) (1.3.0)\r\n",
      "Installing collected packages: tabpfn\r\n",
      "Successfully installed tabpfn-0.1.9\r\n",
      "\u001b[33mWARNING: Running pip as the 'root' user can result in broken permissions and conflicting behaviour with the system package manager. It is recommended to use a virtual environment instead: https://pip.pypa.io/warnings/venv\u001b[0m\u001b[33m\r\n",
      "\u001b[0m"
     ]
    }
   ],
   "source": [
    "!pip install tabpfn --no-index --find-links=file:///kaggle/input/d/stajdi/pip-packages-icr/pip-packages\n",
    "!mkdir -p /opt/conda/lib/python3.10/site-packages/tabpfn/models_diff\n",
    "!cp /kaggle/input/d/stajdi/pip-packages-icr/pip-packages/prior_diff_real_checkpoint_n_0_epoch_100.cpkt /opt/conda/lib/python3.10/site-packages/tabpfn/models_diff/"
   ]
  },
  {
   "cell_type": "code",
   "execution_count": 2,
   "id": "7162a2b5",
   "metadata": {
    "_cell_guid": "b1076dfc-b9ad-4769-8c92-a6c4dae69d19",
    "_uuid": "8f2839f25d086af736a60e9eeb907d3b93b6e0e5",
    "execution": {
     "iopub.execute_input": "2023-08-07T01:25:01.762192Z",
     "iopub.status.busy": "2023-08-07T01:25:01.761730Z",
     "iopub.status.idle": "2023-08-07T01:25:03.199806Z",
     "shell.execute_reply": "2023-08-07T01:25:03.198823Z"
    },
    "papermill": {
     "duration": 1.453101,
     "end_time": "2023-08-07T01:25:03.202567",
     "exception": false,
     "start_time": "2023-08-07T01:25:01.749466",
     "status": "completed"
    },
    "tags": []
   },
   "outputs": [
    {
     "name": "stderr",
     "output_type": "stream",
     "text": [
      "/opt/conda/lib/python3.10/site-packages/scipy/__init__.py:146: UserWarning: A NumPy version >=1.16.5 and <1.23.0 is required for this version of SciPy (detected version 1.23.5\n",
      "  warnings.warn(f\"A NumPy version >={np_minversion} and <{np_maxversion}\"\n"
     ]
    }
   ],
   "source": [
    "import numpy as np\n",
    "import pandas as pd\n",
    "import json\n",
    "\n",
    "import imblearn\n",
    "from imblearn.over_sampling import RandomOverSampler\n",
    "from imblearn.under_sampling import RandomUnderSampler\n",
    "import random\n",
    "import os\n",
    "\n",
    "pd.set_option('display.max_columns', None)\n",
    "pd.set_option('display.max_rows', None)\n",
    "\n",
    "import warnings\n",
    "warnings.filterwarnings(\"ignore\")"
   ]
  },
  {
   "cell_type": "code",
   "execution_count": 3,
   "id": "dde1a2d1",
   "metadata": {
    "execution": {
     "iopub.execute_input": "2023-08-07T01:25:03.220810Z",
     "iopub.status.busy": "2023-08-07T01:25:03.219316Z",
     "iopub.status.idle": "2023-08-07T01:25:03.226625Z",
     "shell.execute_reply": "2023-08-07T01:25:03.225300Z"
    },
    "papermill": {
     "duration": 0.018144,
     "end_time": "2023-08-07T01:25:03.228831",
     "exception": false,
     "start_time": "2023-08-07T01:25:03.210687",
     "status": "completed"
    },
    "tags": []
   },
   "outputs": [
    {
     "name": "stdout",
     "output_type": "stream",
     "text": [
      "Finish seeding with seed 344\n"
     ]
    }
   ],
   "source": [
    "SEED = 344\n",
    "\n",
    "def seed_everything(seed):\n",
    "    random.seed(seed)\n",
    "    os.environ['PYTHONHASHSEED'] = str(seed)\n",
    "    np.random.seed(seed)\n",
    "    print('Finish seeding with seed {}'.format(seed))\n",
    "    \n",
    "seed_everything(SEED)"
   ]
  },
  {
   "cell_type": "code",
   "execution_count": 4,
   "id": "2c001daa",
   "metadata": {
    "execution": {
     "iopub.execute_input": "2023-08-07T01:25:03.245387Z",
     "iopub.status.busy": "2023-08-07T01:25:03.245093Z",
     "iopub.status.idle": "2023-08-07T01:25:03.293222Z",
     "shell.execute_reply": "2023-08-07T01:25:03.292383Z"
    },
    "papermill": {
     "duration": 0.058936,
     "end_time": "2023-08-07T01:25:03.295511",
     "exception": false,
     "start_time": "2023-08-07T01:25:03.236575",
     "status": "completed"
    },
    "tags": []
   },
   "outputs": [
    {
     "name": "stdout",
     "output_type": "stream",
     "text": [
      "['B' 'A']\n"
     ]
    }
   ],
   "source": [
    "# LOAD THE DATA\n",
    "\n",
    "BASE_DIR = '/kaggle/input/icr-identify-age-related-conditions'\n",
    "# Import data directly as H2O frame\n",
    "maindf = pd.read_csv(f'{BASE_DIR}/train.csv')\n",
    "greeksdf = pd.read_csv(f'{BASE_DIR}/greeks.csv')\n",
    "testdf = pd.read_csv(f'{BASE_DIR}/test.csv')\n",
    "\n",
    "print(maindf.EJ.unique())\n",
    "first_cat = maindf.EJ.unique()[0]\n",
    "maindf.EJ = maindf.EJ.eq(first_cat).astype('int')\n",
    "testdf.EJ = testdf.EJ.eq(first_cat).astype('int')"
   ]
  },
  {
   "cell_type": "code",
   "execution_count": 5,
   "id": "1a6974e1",
   "metadata": {
    "execution": {
     "iopub.execute_input": "2023-08-07T01:25:03.312259Z",
     "iopub.status.busy": "2023-08-07T01:25:03.311993Z",
     "iopub.status.idle": "2023-08-07T01:25:03.356536Z",
     "shell.execute_reply": "2023-08-07T01:25:03.355688Z"
    },
    "papermill": {
     "duration": 0.055121,
     "end_time": "2023-08-07T01:25:03.358499",
     "exception": false,
     "start_time": "2023-08-07T01:25:03.303378",
     "status": "completed"
    },
    "tags": []
   },
   "outputs": [
    {
     "data": {
      "text/plain": [
       "((617, 56), (617,))"
      ]
     },
     "execution_count": 5,
     "metadata": {},
     "output_type": "execute_result"
    }
   ],
   "source": [
    "PATH_TRAIN = '/kaggle/input/icr-identify-age-related-conditions/train.csv'\n",
    "PATH_TEST = '/kaggle/input/icr-identify-age-related-conditions/test.csv'\n",
    "PATH_GREEKS = '/kaggle/input/icr-identify-age-related-conditions/greeks.csv'\n",
    "\n",
    "train_list = pd.read_csv(PATH_TRAIN)\n",
    "test_list = pd.read_csv(PATH_TEST)\n",
    "greeks_list = pd.read_csv(PATH_GREEKS)\n",
    "\n",
    "cleaned_list = train_list.copy()\n",
    "cleaned_list.loc[cleaned_list.loc[:, \"EJ\"] == 'B', 'EJ'] = 1.0\n",
    "cleaned_list.loc[cleaned_list.loc[:, \"EJ\"] == 'A', 'EJ'] = 0.0\n",
    "#cleaned_list = cleaned_list.fillna(0)\n",
    "\n",
    "greeks_list.loc[greeks_list.loc[:, \"Alpha\"] == 'A', \"Alpha\"] = 0\n",
    "greeks_list.loc[greeks_list.loc[:, \"Alpha\"] == 'B', \"Alpha\"] = 1\n",
    "greeks_list.loc[greeks_list.loc[:, \"Alpha\"] == 'D', \"Alpha\"] = 2\n",
    "greeks_list.loc[greeks_list.loc[:, \"Alpha\"] == 'G', \"Alpha\"] = 3\n",
    "cleaned_greeks = np.array(greeks_list.loc[:, \"Alpha\"].values, np.int64)\n",
    "\n",
    "\n",
    "id_array = cleaned_list.iloc[:,0].values\n",
    "cleaned_array = np.array(cleaned_list.iloc[:,1:-1].values, np.float32)\n",
    "cleaned_class = np.array(cleaned_list.iloc[:,-1].values, np.float32)\n",
    "\n",
    "#cleaned_array = cleaned_list.drop(['Id', 'Class'], axis=1).astype('float32')\n",
    "#cleaned_class = cleaned_list['Class'].astype('float32')\n",
    "\n",
    "cleaned_array.shape, cleaned_class.shape"
   ]
  },
  {
   "cell_type": "code",
   "execution_count": 6,
   "id": "3ce12c11",
   "metadata": {
    "execution": {
     "iopub.execute_input": "2023-08-07T01:25:03.375625Z",
     "iopub.status.busy": "2023-08-07T01:25:03.375323Z",
     "iopub.status.idle": "2023-08-07T01:25:03.385197Z",
     "shell.execute_reply": "2023-08-07T01:25:03.384318Z"
    },
    "papermill": {
     "duration": 0.020823,
     "end_time": "2023-08-07T01:25:03.387330",
     "exception": false,
     "start_time": "2023-08-07T01:25:03.366507",
     "status": "completed"
    },
    "tags": []
   },
   "outputs": [
    {
     "data": {
      "text/plain": [
       "(5, 56)"
      ]
     },
     "execution_count": 6,
     "metadata": {},
     "output_type": "execute_result"
    }
   ],
   "source": [
    "cleaned_test_list = test_list.copy()\n",
    "cleaned_test_list.loc[cleaned_test_list.loc[:, \"EJ\"] == 'B', 'EJ'] = 1.0\n",
    "cleaned_test_list.loc[cleaned_test_list.loc[:, \"EJ\"] == 'A', 'EJ'] = 0.0\n",
    "cleaned_test_list = cleaned_test_list.fillna(0)\n",
    "\n",
    "test_id_array = cleaned_test_list.iloc[:,0].values\n",
    "cleaned_test_array = np.array(cleaned_test_list.iloc[:,1:].values, np.float32)\n",
    "cleaned_test_array.shape"
   ]
  },
  {
   "cell_type": "code",
   "execution_count": 7,
   "id": "80fccdef",
   "metadata": {
    "execution": {
     "iopub.execute_input": "2023-08-07T01:25:03.405238Z",
     "iopub.status.busy": "2023-08-07T01:25:03.404495Z",
     "iopub.status.idle": "2023-08-07T01:25:03.422200Z",
     "shell.execute_reply": "2023-08-07T01:25:03.421377Z"
    },
    "papermill": {
     "duration": 0.028688,
     "end_time": "2023-08-07T01:25:03.424170",
     "exception": false,
     "start_time": "2023-08-07T01:25:03.395482",
     "status": "completed"
    },
    "tags": []
   },
   "outputs": [],
   "source": [
    "# Greeks contains time information that we can use, we just need to parse it to int / nan.\n",
    "\n",
    "from datetime import date, datetime\n",
    "times = greeksdf.Epsilon.copy()\n",
    "times[greeksdf.Epsilon != 'Unknown'] = greeksdf.Epsilon[greeksdf.Epsilon != 'Unknown'].map(lambda x: datetime.strptime(x,'%m/%d/%Y').toordinal())\n",
    "times[greeksdf.Epsilon == 'Unknown'] = np.nan"
   ]
  },
  {
   "cell_type": "code",
   "execution_count": 8,
   "id": "50e46136",
   "metadata": {
    "execution": {
     "iopub.execute_input": "2023-08-07T01:25:03.441888Z",
     "iopub.status.busy": "2023-08-07T01:25:03.441069Z",
     "iopub.status.idle": "2023-08-07T01:25:03.445959Z",
     "shell.execute_reply": "2023-08-07T01:25:03.445077Z"
    },
    "papermill": {
     "duration": 0.01579,
     "end_time": "2023-08-07T01:25:03.447914",
     "exception": false,
     "start_time": "2023-08-07T01:25:03.432124",
     "status": "completed"
    },
    "tags": []
   },
   "outputs": [],
   "source": [
    "# Set predictor and target columns\n",
    "target = 'Class'\n",
    "predictors = [n for n in maindf.columns if n != target and n != 'Id']"
   ]
  },
  {
   "cell_type": "markdown",
   "id": "a2c874a1",
   "metadata": {
    "papermill": {
     "duration": 0.007905,
     "end_time": "2023-08-07T01:25:03.464896",
     "exception": false,
     "start_time": "2023-08-07T01:25:03.456991",
     "status": "completed"
    },
    "tags": []
   },
   "source": [
    "# Model"
   ]
  },
  {
   "cell_type": "code",
   "execution_count": 9,
   "id": "a69524ee",
   "metadata": {
    "execution": {
     "iopub.execute_input": "2023-08-07T01:25:03.482526Z",
     "iopub.status.busy": "2023-08-07T01:25:03.482087Z",
     "iopub.status.idle": "2023-08-07T01:25:06.849755Z",
     "shell.execute_reply": "2023-08-07T01:25:06.848762Z"
    },
    "papermill": {
     "duration": 3.379229,
     "end_time": "2023-08-07T01:25:06.852143",
     "exception": false,
     "start_time": "2023-08-07T01:25:03.472914",
     "status": "completed"
    },
    "tags": []
   },
   "outputs": [],
   "source": [
    "import torch\n",
    "import torch.optim as optim\n",
    "import torch.nn as nn\n",
    "from torchvision import transforms\n",
    "from torch.utils.data import Dataset\n",
    "import torch.nn.functional as F\n",
    "\n",
    "momentum = 0.4\n",
    "track_running_stats = True\n",
    "affine = True\n",
    "\n",
    "class inputFC(nn.Module):\n",
    "    def __init__(self, channels_in=56):\n",
    "        super().__init__()\n",
    "\n",
    "        self.seq = nn.Sequential(\n",
    "            nn.Linear(channels_in, 16*16),\n",
    "        )\n",
    "        \n",
    "    def forward(self, x):\n",
    "        x = self.seq(x)\n",
    "        return x.view(-1, 16, 16)\n",
    "\n",
    "class CNN1D(nn.Module):\n",
    "    def __init__(self, channels_out=4):\n",
    "        super().__init__()\n",
    "\n",
    "        self.seq = nn.Sequential(\n",
    "            nn.Conv1d(16, 32, 3, padding=0),\n",
    "            nn.BatchNorm1d(32, momentum=momentum, track_running_stats=track_running_stats, affine=affine),\n",
    "            nn.ReLU(inplace=True),\n",
    "            nn.MaxPool1d(2),\n",
    "            \n",
    "            nn.Conv1d(32, 64, 3, padding=0),\n",
    "            nn.BatchNorm1d(64, momentum=momentum, track_running_stats=track_running_stats, affine=affine),\n",
    "            nn.ReLU(inplace=True),\n",
    "            nn.MaxPool1d(2),\n",
    "            \n",
    "#             nn.Conv1d(256, 1024, 3, padding=0),\n",
    "#             nn.BatchNorm1d(1024, momentum=momentum, track_running_stats=track_running_stats, affine=affine),\n",
    "#             nn.ReLU(inplace=True),\n",
    "#             nn.MaxPool1d(2),\n",
    "\n",
    "            #nn.Conv1d(256, 64, 1, padding=0),\n",
    "            #nn.BatchNorm1d(64, momentum=momentum, track_running_stats=track_running_stats, affine=affine),\n",
    "            #nn.ReLU(inplace=True),\n",
    "            nn.Flatten(),\n",
    "            nn.Linear(128, channels_out)\n",
    "        )\n",
    "        \n",
    "    def forward(self, x):\n",
    "        x = self.seq(x)\n",
    "        return x\n",
    "    \n",
    "class NetCNN(nn.Module):\n",
    "    def __init__(self):\n",
    "        super().__init__()\n",
    "        \n",
    "        self.seq = nn.Sequential(\n",
    "            inputFC(),\n",
    "            CNN1D()\n",
    "        )\n",
    "        \n",
    "    def forward(self, x):\n",
    "        return self.seq(x)"
   ]
  },
  {
   "cell_type": "code",
   "execution_count": 10,
   "id": "ca893632",
   "metadata": {
    "execution": {
     "iopub.execute_input": "2023-08-07T01:25:06.870897Z",
     "iopub.status.busy": "2023-08-07T01:25:06.870406Z",
     "iopub.status.idle": "2023-08-07T01:25:06.884582Z",
     "shell.execute_reply": "2023-08-07T01:25:06.883623Z"
    },
    "papermill": {
     "duration": 0.02582,
     "end_time": "2023-08-07T01:25:06.886538",
     "exception": false,
     "start_time": "2023-08-07T01:25:06.860718",
     "status": "completed"
    },
    "tags": []
   },
   "outputs": [],
   "source": [
    "from sklearn.base import BaseEstimator\n",
    "from torch.utils.data import TensorDataset, DataLoader\n",
    "\n",
    "class CNNClassifier(BaseEstimator):\n",
    "    def __init__(self, batchsize = 16, epochs=50, device = 'cuda'):\n",
    "        self.clf = NetCNN().to(device)\n",
    "        self.bs = batchsize\n",
    "        self.n_eopchs = epochs\n",
    "        self.device = device\n",
    "        \n",
    "    def fit(self, X, y):\n",
    "        X = torch.tensor(X).to(self.device)\n",
    "        y = torch.tensor(y).to(self.device)\n",
    "        \n",
    "        train_dataset = TensorDataset(X,y)\n",
    "        loader = DataLoader(dataset=train_dataset,batch_size=self.bs,shuffle=True,num_workers=0,)\n",
    "        \n",
    "        optimizer = optim.Adam(self.clf.parameters(), lr=1e-3)\n",
    "        loss_fn = nn.CrossEntropyLoss()\n",
    "        \n",
    "        for epoch in range(0, self.n_eopchs):\n",
    "            for X, y in loader:\n",
    "                X = X.to(self.device)\n",
    "                y = y.to(self.device)\n",
    "\n",
    "                outputs = self.clf(X)\n",
    "                #outputs = model(imgs.unsqueeze(1))\n",
    "                loss = loss_fn(outputs, y)\n",
    "                optimizer.zero_grad()\n",
    "                loss.backward()\n",
    "                optimizer.step()\n",
    "            \n",
    "    def predict_proba(self, X):\n",
    "        X = torch.tensor(X).to(self.device)\n",
    "        \n",
    "        test_dataset = TensorDataset(X)\n",
    "        loader = DataLoader(dataset=test_dataset,batch_size=self.bs, shuffle=False,num_workers=0,)\n",
    "    \n",
    "        p = []\n",
    "        \n",
    "        for X in loader:\n",
    "            X = X[0].to(self.device)\n",
    "            \n",
    "            with torch.no_grad():\n",
    "                outputs = self.clf(X)\n",
    "                p.append(torch.nn.functional.softmax(outputs, dim = 1).to('cpu').numpy())\n",
    "                \n",
    "                \n",
    "        \n",
    "        p = np.concatenate([x for x in p], axis=0)\n",
    "        return p\n",
    "        class_0_est_instances = p[:,0].sum()\n",
    "        others_est_instances = p[:,1:].sum()\n",
    "        # we reweight the probs, since the loss is also balanced like this\n",
    "        # our models out of the box optimize CE\n",
    "        # with these changes they optimize balanced CE\n",
    "        new_p = p * np.array([[1/(class_0_est_instances if i==0 else others_est_instances) for i in range(p.shape[1])]])\n",
    "        return new_p / np.sum(new_p,axis=1,keepdims=1)"
   ]
  },
  {
   "cell_type": "code",
   "execution_count": 11,
   "id": "da449a19",
   "metadata": {
    "execution": {
     "iopub.execute_input": "2023-08-07T01:25:06.904163Z",
     "iopub.status.busy": "2023-08-07T01:25:06.903903Z",
     "iopub.status.idle": "2023-08-07T01:25:07.516665Z",
     "shell.execute_reply": "2023-08-07T01:25:07.515613Z"
    },
    "papermill": {
     "duration": 0.624428,
     "end_time": "2023-08-07T01:25:07.519077",
     "exception": false,
     "start_time": "2023-08-07T01:25:06.894649",
     "status": "completed"
    },
    "tags": []
   },
   "outputs": [],
   "source": [
    "from sklearn.base import BaseEstimator\n",
    "from sklearn.ensemble import RandomForestClassifier\n",
    "from sklearn.neural_network import MLPClassifier\n",
    "from sklearn.impute import SimpleImputer\n",
    "from catboost import Pool, CatBoostClassifier\n",
    "import xgboost\n",
    "from tabpfn import TabPFNClassifier\n",
    "#import tabpfn\n",
    "\n",
    "xgb_params = {\n",
    "    #'objective': 'multi:softprob',\n",
    "    #'scale_pos_weight': 14,\n",
    "    #'num_class': 4,\n",
    "    'learning_rate': 0.1,\n",
    "    'n_estimators': 100,\n",
    "    'max_depth': 7,\n",
    "    'subsample': 0.5,\n",
    "    'colsample_bytree': 0.8,\n",
    "    'min_child_weight': 1,\n",
    "    'gamma': 0,\n",
    "    'reg_alpha': 0.5,\n",
    "    'reg_lambda': 0.1,\n",
    "    'seed': 344,\n",
    "    }\n",
    "\n",
    "class WeightedEns(BaseEstimator):\n",
    "    def __init__(self):\n",
    "        self.classifiers = [xgboost.XGBClassifier(**xgb_params), xgboost.XGBClassifier(), \n",
    "                            TabPFNClassifier(N_ensemble_configurations=64, device='cuda'), \n",
    "                            TabPFNClassifier(N_ensemble_configurations=24, device='cuda'),\n",
    "                            CNNClassifier(batchsize = 16, epochs=100),]\n",
    "        self.imp = SimpleImputer(missing_values=np.nan, strategy='median')\n",
    "        #self.imp = SimpleImputer(missing_values=np.nan, strategy='constant', fill_value=0)\n",
    "    \n",
    "    def fit(self, X, y):\n",
    "        cls, y = np.unique(y, return_inverse=True)\n",
    "        self.classes_ = cls\n",
    "        X = self.imp.fit_transform(X)\n",
    "        for cl in self.classifiers:\n",
    "            if cl==self.classifiers[2] or cl==self.classifiers[3]:\n",
    "                cl.fit(X,y, overwrite_warning=True)\n",
    "            else:\n",
    "                cl.fit(X,y)\n",
    "    \n",
    "    def predict_proba(self, X):\n",
    "        X = self.imp.transform(X)\n",
    "        ps = np.stack([cl.predict_proba(X) for cl in self.classifiers])\n",
    "        p = np.mean(ps,axis=0)\n",
    "        class_0_est_instances = p[:,0].sum()\n",
    "        others_est_instances = p[:,1:].sum()\n",
    "        # we reweight the probs, since the loss is also balanced like this\n",
    "        # our models out of the box optimize CE\n",
    "        # with these changes they optimize balanced CE\n",
    "        new_p = p * np.array([[1/(class_0_est_instances if i==0 else others_est_instances) for i in range(p.shape[1])]])\n",
    "        return new_p / np.sum(new_p,axis=1,keepdims=1)\n",
    "        #return p"
   ]
  },
  {
   "cell_type": "code",
   "execution_count": 12,
   "id": "9383431c",
   "metadata": {
    "execution": {
     "iopub.execute_input": "2023-08-07T01:25:07.537696Z",
     "iopub.status.busy": "2023-08-07T01:25:07.536713Z",
     "iopub.status.idle": "2023-08-07T01:25:07.544941Z",
     "shell.execute_reply": "2023-08-07T01:25:07.544095Z"
    },
    "papermill": {
     "duration": 0.019628,
     "end_time": "2023-08-07T01:25:07.547095",
     "exception": false,
     "start_time": "2023-08-07T01:25:07.527467",
     "status": "completed"
    },
    "tags": []
   },
   "outputs": [],
   "source": [
    "pred_and_time = pd.concat((maindf[predictors], times), 1)"
   ]
  },
  {
   "cell_type": "code",
   "execution_count": 13,
   "id": "cf84d21e",
   "metadata": {
    "execution": {
     "iopub.execute_input": "2023-08-07T01:25:07.565735Z",
     "iopub.status.busy": "2023-08-07T01:25:07.564839Z",
     "iopub.status.idle": "2023-08-07T01:25:07.571893Z",
     "shell.execute_reply": "2023-08-07T01:25:07.570979Z"
    },
    "papermill": {
     "duration": 0.018773,
     "end_time": "2023-08-07T01:25:07.573949",
     "exception": false,
     "start_time": "2023-08-07T01:25:07.555176",
     "status": "completed"
    },
    "tags": []
   },
   "outputs": [],
   "source": [
    "test_predictors = np.array(testdf[predictors])\n",
    "test_pred_and_time = np.concatenate((test_predictors, np.zeros((len(test_predictors),1)) + pred_and_time.Epsilon.max()+1),1)"
   ]
  },
  {
   "cell_type": "code",
   "execution_count": 14,
   "id": "a7e3bf75",
   "metadata": {
    "execution": {
     "iopub.execute_input": "2023-08-07T01:25:07.593640Z",
     "iopub.status.busy": "2023-08-07T01:25:07.592841Z",
     "iopub.status.idle": "2023-08-07T01:25:07.597428Z",
     "shell.execute_reply": "2023-08-07T01:25:07.596465Z"
    },
    "papermill": {
     "duration": 0.015484,
     "end_time": "2023-08-07T01:25:07.599305",
     "exception": false,
     "start_time": "2023-08-07T01:25:07.583821",
     "status": "completed"
    },
    "tags": []
   },
   "outputs": [],
   "source": [
    "# m = WeightedEns()\n",
    "# m.fit(np.array(pred_and_time),np.array(greeksdf['Alpha']))\n",
    "# p = m.predict_proba(test_pred_and_time)\n",
    "# assert (m.classes_[0] == 'A')\n",
    "# p = np.concatenate((p[:,:1],np.sum(p[:,1:],1,keepdims=True)), 1)\n",
    "# result_df = pd.concat((testdf['Id'],pd.DataFrame(p, columns=('class_0', 'class_1'))),axis=1)\n",
    "# result_df.to_csv('submission.csv',index=False)"
   ]
  },
  {
   "cell_type": "code",
   "execution_count": 15,
   "id": "92eb50d7",
   "metadata": {
    "execution": {
     "iopub.execute_input": "2023-08-07T01:25:07.617519Z",
     "iopub.status.busy": "2023-08-07T01:25:07.616595Z",
     "iopub.status.idle": "2023-08-07T01:25:07.636347Z",
     "shell.execute_reply": "2023-08-07T01:25:07.635264Z"
    },
    "papermill": {
     "duration": 0.03077,
     "end_time": "2023-08-07T01:25:07.638372",
     "exception": false,
     "start_time": "2023-08-07T01:25:07.607602",
     "status": "completed"
    },
    "tags": []
   },
   "outputs": [
    {
     "name": "stdout",
     "output_type": "stream",
     "text": [
      "Original dataset shape\n",
      "A    509\n",
      "B     61\n",
      "G     29\n",
      "D     18\n",
      "Name: Alpha, dtype: int64\n",
      "Resample dataset shape\n",
      "B    509\n",
      "A    509\n",
      "D    509\n",
      "G    509\n",
      "Name: Alpha, dtype: int64\n"
     ]
    }
   ],
   "source": [
    "ros = RandomOverSampler(random_state=344)\n",
    "greeks = pd.read_csv('/kaggle/input/icr-identify-age-related-conditions/greeks.csv')\n",
    "\n",
    "train_ros, target_ros = ros.fit_resample(cleaned_array, greeks.Alpha)\n",
    "print('Original dataset shape')\n",
    "print(greeks.Alpha.value_counts())\n",
    "print('Resample dataset shape')\n",
    "print(target_ros.value_counts())\n",
    "\n",
    "num_targets_ros = np.array([0 if x == 'A' else 1 for x in target_ros])"
   ]
  },
  {
   "cell_type": "markdown",
   "id": "dd186499",
   "metadata": {
    "papermill": {
     "duration": 0.007947,
     "end_time": "2023-08-07T01:25:07.654459",
     "exception": false,
     "start_time": "2023-08-07T01:25:07.646512",
     "status": "completed"
    },
    "tags": []
   },
   "source": [
    "# CV training"
   ]
  },
  {
   "cell_type": "code",
   "execution_count": 16,
   "id": "0503e691",
   "metadata": {
    "execution": {
     "iopub.execute_input": "2023-08-07T01:25:07.672446Z",
     "iopub.status.busy": "2023-08-07T01:25:07.672140Z",
     "iopub.status.idle": "2023-08-07T01:26:10.540495Z",
     "shell.execute_reply": "2023-08-07T01:26:10.539413Z"
    },
    "papermill": {
     "duration": 62.889369,
     "end_time": "2023-08-07T01:26:10.552034",
     "exception": false,
     "start_time": "2023-08-07T01:25:07.662665",
     "status": "completed"
    },
    "tags": []
   },
   "outputs": [
    {
     "name": "stdout",
     "output_type": "stream",
     "text": [
      "Loading model that can be used for inference only\n",
      "Using a Transformer with 25.82 M parameters\n",
      "Loading model that can be used for inference only\n",
      "Using a Transformer with 25.82 M parameters\n",
      "[0.20012646925828848, 0.2755579831710057, 0.1567009218868457, 0.1815986285754826, 0.1394537584864489]\n",
      "CI: 0.19 (+/- 0.09)\n"
     ]
    }
   ],
   "source": [
    "from sklearn.model_selection import KFold,StratifiedKFold\n",
    "%matplotlib inline\n",
    "from matplotlib import pyplot as plt\n",
    "import matplotlib\n",
    "\n",
    "def balanced_log_loss(y_true, y_pred):\n",
    "    y_true = y_true.astype(np.int64)\n",
    "    y_pred = np.clip(y_pred, 1e-15, 1-1e-15)\n",
    "    nc = np.bincount(y_true)\n",
    "    w0, w1 = 1/(nc[0]/y_true.shape[0]), 1/(nc[1]/y_true.shape[0])\n",
    "    balanced_log_loss_score = (-1/nc[0]*(np.sum(np.where(y_true==0,1,0) * np.log(1-y_pred))) - 1/nc[1]*(np.sum(np.where(y_true!=0,1,0) * np.log(y_pred)))) / 2\n",
    "    #balanced_log_loss_score = (-w0/nc[0]*(np.sum(np.where(y_true==0,1,0) * np.log(1-y_pred))) - w1/nc[1]*(np.sum(np.where(y_true!=0,1,0) * np.log(y_pred)))) / (w0+w1)\n",
    "    \n",
    "    return balanced_log_loss_score\n",
    "\n",
    "features = np.array(cleaned_array)\n",
    "targets = np.array(greeksdf['Alpha'])\n",
    "kf = StratifiedKFold(n_splits=5).split(cleaned_array, cleaned_greeks)\n",
    "num_targets = np.array([0 if x == 'A' else 1 for x in targets])\n",
    "\n",
    "# features = np.array(train_ros)\n",
    "# targets = np.array(target_ros)\n",
    "# kf = StratifiedKFold(n_splits=5).split(features, targets)\n",
    "# num_targets = num_targets_ros\n",
    "\n",
    "cv_loss = []\n",
    "test_preds = []\n",
    "classifier = WeightedEns()\n",
    "\n",
    "for train_index, test_index in kf:\n",
    "    \n",
    "    classifier.fit(features[train_index], targets[train_index])\n",
    "\n",
    "    p = classifier.predict_proba(features[test_index])\n",
    "    p = np.sum(p[:,1:],1)\n",
    "    \n",
    "    p[p < 0.02] = 0.0\n",
    "    p[p > 0.98] = 1.0\n",
    "    \n",
    "#     print(pd.DataFrame(p, num_targets[test_index].astype(np.int64)))\n",
    "#     print(max(abs(p - num_targets[test_index].astype(np.int64))))\n",
    "    \n",
    "#     for p_index in range(0, len(p)):\n",
    "#         if p[p_index] > 0.7 and p[p_index] <= 0.9:\n",
    "#             p[p_index] = 0.9\n",
    "#         elif p[p_index] > 0.9 and p[p_index] <= 0.98:\n",
    "#             p[p_index] = 0.98\n",
    "#         elif p[p_index] > 0.98:\n",
    "#             p[p_index] = 1.0\n",
    "#         elif p[p_index] < 0.3 and p[p_index] >= 0.1:\n",
    "#             p[p_index] = 0.1\n",
    "#         elif p[p_index] < 0.1 and p[p_index] >= 0.02:\n",
    "#             p[p_index] = 0.02\n",
    "#         elif p[p_index] < 0.02:\n",
    "#             p[p_index] = 0.0\n",
    "            \n",
    "                \n",
    "\n",
    "\n",
    "    cv_loss.append(balanced_log_loss(num_targets[test_index].astype(np.int64), p))\n",
    "    \n",
    "    p_test = classifier.predict_proba(cleaned_test_array)\n",
    "    p_test = np.sum(p_test[:,1:],1)\n",
    "    test_preds.append(p_test)\n",
    "\n",
    "print(cv_loss)\n",
    "print(\"CI: %0.2f (+/- %0.2f)\" % (np.mean(cv_loss), np.std(cv_loss) * 2)) "
   ]
  },
  {
   "cell_type": "code",
   "execution_count": 17,
   "id": "90bd6b86",
   "metadata": {
    "execution": {
     "iopub.execute_input": "2023-08-07T01:26:10.570483Z",
     "iopub.status.busy": "2023-08-07T01:26:10.570164Z",
     "iopub.status.idle": "2023-08-07T01:26:20.111311Z",
     "shell.execute_reply": "2023-08-07T01:26:20.110279Z"
    },
    "papermill": {
     "duration": 9.552918,
     "end_time": "2023-08-07T01:26:20.113524",
     "exception": false,
     "start_time": "2023-08-07T01:26:10.560606",
     "status": "completed"
    },
    "tags": []
   },
   "outputs": [
    {
     "data": {
      "text/plain": [
       "0.156000810332322"
      ]
     },
     "execution_count": 17,
     "metadata": {},
     "output_type": "execute_result"
    }
   ],
   "source": [
    "from sklearn.model_selection import train_test_split\n",
    "\n",
    "X_train, X_test, y_train, y_test = train_test_split(np.array(cleaned_array), np.array(greeksdf['Alpha']), test_size=0.2, random_state=42)\n",
    "classifier.fit(X_train, y_train)\n",
    "p = classifier.predict_proba(X_test)\n",
    "p = np.sum(p[:,1:],1)\n",
    "num_targets = np.array([0 if x == 'A' else 1 for x in y_test])\n",
    "balanced_log_loss(num_targets.astype(np.int64), p)"
   ]
  },
  {
   "cell_type": "code",
   "execution_count": 18,
   "id": "20e3c227",
   "metadata": {
    "execution": {
     "iopub.execute_input": "2023-08-07T01:26:20.132443Z",
     "iopub.status.busy": "2023-08-07T01:26:20.132133Z",
     "iopub.status.idle": "2023-08-07T01:26:20.136991Z",
     "shell.execute_reply": "2023-08-07T01:26:20.136062Z"
    },
    "papermill": {
     "duration": 0.016414,
     "end_time": "2023-08-07T01:26:20.139057",
     "exception": false,
     "start_time": "2023-08-07T01:26:20.122643",
     "status": "completed"
    },
    "tags": []
   },
   "outputs": [],
   "source": [
    "# from sklearn.metrics import make_scorer\n",
    "\n",
    "# def balanced_log_loss_inverse(y_true, y_pred):\n",
    "#     y_true = np.array([0 if x == 'A' else 1 for x in y_true])\n",
    "#     y_true = y_true.astype(np.int64)\n",
    "#     y_pred = np.clip(y_pred, 1e-15, 1-1e-15)\n",
    "#     y_pred = np.sum(y_pred[:,1:],1)\n",
    "#     nc = np.bincount(y_true)\n",
    "#     w0, w1 = 1/(nc[0]/y_true.shape[0]), 1/(nc[1]/y_true.shape[0])\n",
    "#     balanced_log_loss_score = (-w0/nc[0]*(np.sum(np.where(y_true==0,1,0) * np.log(1-y_pred))) - w1/nc[1]*(np.sum(np.where(y_true!=0,1,0) * np.log(y_pred)))) / (w0+w1)\n",
    "#     #balanced_log_loss_score = (-1/nc[0]*(np.sum(np.where(y_true==0,1,0) * np.log(1-y_pred))) - 1/nc[1]*(np.sum(np.where(y_true!=0,1,0) * np.log(y_pred)))) / 2\n",
    "    \n",
    "    \n",
    "#     return balanced_log_loss_score\n",
    "\n",
    "\n",
    "# balanced_log_loss_scorer = make_scorer(balanced_log_loss_inverse, greater_is_better=False, needs_proba=True)"
   ]
  },
  {
   "cell_type": "code",
   "execution_count": 19,
   "id": "dad2fcf7",
   "metadata": {
    "execution": {
     "iopub.execute_input": "2023-08-07T01:26:20.158434Z",
     "iopub.status.busy": "2023-08-07T01:26:20.157032Z",
     "iopub.status.idle": "2023-08-07T01:26:20.161541Z",
     "shell.execute_reply": "2023-08-07T01:26:20.160677Z"
    },
    "papermill": {
     "duration": 0.01579,
     "end_time": "2023-08-07T01:26:20.163460",
     "exception": false,
     "start_time": "2023-08-07T01:26:20.147670",
     "status": "completed"
    },
    "tags": []
   },
   "outputs": [],
   "source": [
    "# from sklearn.model_selection import cross_val_score\n",
    "\n",
    "\n",
    "\n",
    "# cv_scores = - cross_val_score(classifier, cleaned_array, np.array(greeksdf['Alpha']), cv = 5, scoring = balanced_log_loss_scorer)\n",
    "\n",
    "# print(cv_scores)\n",
    "# print(np.mean(cv_scores))"
   ]
  },
  {
   "cell_type": "code",
   "execution_count": 20,
   "id": "a6005881",
   "metadata": {
    "execution": {
     "iopub.execute_input": "2023-08-07T01:26:20.181973Z",
     "iopub.status.busy": "2023-08-07T01:26:20.181155Z",
     "iopub.status.idle": "2023-08-07T01:26:20.190948Z",
     "shell.execute_reply": "2023-08-07T01:26:20.190068Z"
    },
    "papermill": {
     "duration": 0.021062,
     "end_time": "2023-08-07T01:26:20.192980",
     "exception": false,
     "start_time": "2023-08-07T01:26:20.171918",
     "status": "completed"
    },
    "tags": []
   },
   "outputs": [],
   "source": [
    "predict = np.mean(test_preds, axis=0)\n",
    "\n",
    "predict[predict < 0.02] = 0.0\n",
    "predict[predict > 0.98] = 1.0\n",
    "\n",
    "# for p_index in range(0, len(predict)):\n",
    "#     if predict[p_index] > 0.7 and predict[p_index] <= 0.9:\n",
    "#             predict[p_index] = 0.9\n",
    "#     elif predict[p_index] > 0.9 and predict[p_index] <= 0.98:\n",
    "#             predict[p_index] = 0.98\n",
    "#     elif predict[p_index] > 0.98:\n",
    "#             predict[p_index] = 1.0\n",
    "#     elif predict[p_index] < 0.3 and predict[p_index] >= 0.1:\n",
    "#             predict[p_index] = 0.1\n",
    "#     elif predict[p_index] < 0.1 and predict[p_index] >= 0.02:\n",
    "#             predict[p_index] = 0.02\n",
    "#     elif predict[p_index] < 0.02:\n",
    "#             predict[p_index] = 0.0\n",
    "\n",
    "submission = pd.DataFrame({\"Id\":test_id_array,\n",
    "                          \"class_0\":1-predict,\n",
    "                          \"class_1\": predict})\n",
    "submission.to_csv(\"submission.csv\", index=None)"
   ]
  },
  {
   "cell_type": "code",
   "execution_count": 21,
   "id": "fe8214d5",
   "metadata": {
    "execution": {
     "iopub.execute_input": "2023-08-07T01:26:20.211836Z",
     "iopub.status.busy": "2023-08-07T01:26:20.211107Z",
     "iopub.status.idle": "2023-08-07T01:26:20.226320Z",
     "shell.execute_reply": "2023-08-07T01:26:20.225362Z"
    },
    "papermill": {
     "duration": 0.026641,
     "end_time": "2023-08-07T01:26:20.228360",
     "exception": false,
     "start_time": "2023-08-07T01:26:20.201719",
     "status": "completed"
    },
    "tags": []
   },
   "outputs": [
    {
     "data": {
      "text/html": [
       "<div>\n",
       "<style scoped>\n",
       "    .dataframe tbody tr th:only-of-type {\n",
       "        vertical-align: middle;\n",
       "    }\n",
       "\n",
       "    .dataframe tbody tr th {\n",
       "        vertical-align: top;\n",
       "    }\n",
       "\n",
       "    .dataframe thead th {\n",
       "        text-align: right;\n",
       "    }\n",
       "</style>\n",
       "<table border=\"1\" class=\"dataframe\">\n",
       "  <thead>\n",
       "    <tr style=\"text-align: right;\">\n",
       "      <th></th>\n",
       "      <th>Id</th>\n",
       "      <th>class_0</th>\n",
       "      <th>class_1</th>\n",
       "    </tr>\n",
       "  </thead>\n",
       "  <tbody>\n",
       "    <tr>\n",
       "      <th>0</th>\n",
       "      <td>00eed32682bb</td>\n",
       "      <td>0.5</td>\n",
       "      <td>0.5</td>\n",
       "    </tr>\n",
       "    <tr>\n",
       "      <th>1</th>\n",
       "      <td>010ebe33f668</td>\n",
       "      <td>0.5</td>\n",
       "      <td>0.5</td>\n",
       "    </tr>\n",
       "    <tr>\n",
       "      <th>2</th>\n",
       "      <td>02fa521e1838</td>\n",
       "      <td>0.5</td>\n",
       "      <td>0.5</td>\n",
       "    </tr>\n",
       "    <tr>\n",
       "      <th>3</th>\n",
       "      <td>040e15f562a2</td>\n",
       "      <td>0.5</td>\n",
       "      <td>0.5</td>\n",
       "    </tr>\n",
       "    <tr>\n",
       "      <th>4</th>\n",
       "      <td>046e85c7cc7f</td>\n",
       "      <td>0.5</td>\n",
       "      <td>0.5</td>\n",
       "    </tr>\n",
       "  </tbody>\n",
       "</table>\n",
       "</div>"
      ],
      "text/plain": [
       "             Id  class_0  class_1\n",
       "0  00eed32682bb      0.5      0.5\n",
       "1  010ebe33f668      0.5      0.5\n",
       "2  02fa521e1838      0.5      0.5\n",
       "3  040e15f562a2      0.5      0.5\n",
       "4  046e85c7cc7f      0.5      0.5"
      ]
     },
     "execution_count": 21,
     "metadata": {},
     "output_type": "execute_result"
    }
   ],
   "source": [
    "pd.read_csv('submission.csv')"
   ]
  },
  {
   "cell_type": "code",
   "execution_count": null,
   "id": "38a546eb",
   "metadata": {
    "papermill": {
     "duration": 0.008429,
     "end_time": "2023-08-07T01:26:20.245584",
     "exception": false,
     "start_time": "2023-08-07T01:26:20.237155",
     "status": "completed"
    },
    "tags": []
   },
   "outputs": [],
   "source": []
  },
  {
   "cell_type": "code",
   "execution_count": null,
   "id": "7cf0a2ad",
   "metadata": {
    "papermill": {
     "duration": 0.008371,
     "end_time": "2023-08-07T01:26:20.263069",
     "exception": false,
     "start_time": "2023-08-07T01:26:20.254698",
     "status": "completed"
    },
    "tags": []
   },
   "outputs": [],
   "source": []
  }
 ],
 "metadata": {
  "kernelspec": {
   "display_name": "Python 3",
   "language": "python",
   "name": "python3"
  },
  "language_info": {
   "codemirror_mode": {
    "name": "ipython",
    "version": 3
   },
   "file_extension": ".py",
   "mimetype": "text/x-python",
   "name": "python",
   "nbconvert_exporter": "python",
   "pygments_lexer": "ipython3",
   "version": "3.10.10"
  },
  "papermill": {
   "default_parameters": {},
   "duration": 105.601153,
   "end_time": "2023-08-07T01:26:22.195840",
   "environment_variables": {},
   "exception": null,
   "input_path": "__notebook__.ipynb",
   "output_path": "__notebook__.ipynb",
   "parameters": {},
   "start_time": "2023-08-07T01:24:36.594687",
   "version": "2.4.0"
  }
 },
 "nbformat": 4,
 "nbformat_minor": 5
}
